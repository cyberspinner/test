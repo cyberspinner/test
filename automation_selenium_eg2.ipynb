{
 "cells": [
  {
   "cell_type": "code",
   "execution_count": 82,
   "metadata": {},
   "outputs": [],
   "source": [
    "from selenium import webdriver\n",
    "from selenium.webdriver.common.keys import Keys\n",
    "from selenium.webdriver.common.by import By\n",
    "from selenium.webdriver.chrome.service import Service\n",
    "from webdriver_manager.chrome import ChromeDriverManager\n",
    "import time\n",
    "import os\n",
    "from datetime import datetime\n",
    "import shutil\n",
    "import re\n",
    "import pdfplumber\n",
    "import pandas as pd"
   ]
  },
  {
   "cell_type": "code",
   "execution_count": 83,
   "metadata": {},
   "outputs": [],
   "source": [
    "download_dir = 'C:/Users/andre/Downloads'\n",
    "newsletter_folder = 'C:/Jared Dillian'\n",
    "\n",
    "pdf_index_num = 1  # 1st, 2nd, 3rd PDF etc. on page"
   ]
  },
  {
   "cell_type": "code",
   "execution_count": 84,
   "metadata": {},
   "outputs": [],
   "source": [
    "creds_df = pd.read_csv('c:/creds/creds.csv')\n",
    "\n",
    "my_username = creds_df.loc[0, 'username']\n",
    "my_password = creds_df.loc[0, 'password']"
   ]
  },
  {
   "cell_type": "code",
   "execution_count": 85,
   "metadata": {},
   "outputs": [],
   "source": [
    "driver = webdriver.Chrome(service=Service(ChromeDriverManager().install()))"
   ]
  },
  {
   "cell_type": "code",
   "execution_count": 86,
   "metadata": {},
   "outputs": [],
   "source": [
    "driver.get('https://mauldineconomics.com')\n",
    "time.sleep(2.5)\n",
    "driver.maximize_window()"
   ]
  },
  {
   "cell_type": "code",
   "execution_count": 87,
   "metadata": {},
   "outputs": [],
   "source": [
    "decline_cookies = driver.find_element(By.ID, \"CybotCookiebotDialogBodyButtonDecline\")\n",
    "decline_cookies.click()"
   ]
  },
  {
   "cell_type": "code",
   "execution_count": 88,
   "metadata": {},
   "outputs": [],
   "source": [
    "account_link = driver.find_element(By.XPATH, \"//a[@class='nav-link px-0' and contains(text(), 'My Account')]\")\n",
    "account_link.click()"
   ]
  },
  {
   "cell_type": "code",
   "execution_count": 89,
   "metadata": {},
   "outputs": [],
   "source": [
    "username = driver.find_element(By.NAME, 'username')\n",
    "username.send_keys(my_username)\n",
    "time.sleep(2)\n",
    "username = driver.find_element(By.NAME, 'password')\n",
    "username.send_keys(my_password)\n",
    "time.sleep(2)"
   ]
  },
  {
   "cell_type": "code",
   "execution_count": 90,
   "metadata": {},
   "outputs": [],
   "source": [
    "login_btn = driver.find_element(By.XPATH, \"//button[@type='submit' and contains(@class, 'btn') and contains(@class, 'u-btn-primary') and contains(text(), 'Log In')]\")\n",
    "login_btn.click()\n",
    "time.sleep(4)"
   ]
  },
  {
   "cell_type": "code",
   "execution_count": 91,
   "metadata": {},
   "outputs": [],
   "source": [
    "driver.get('https://www.mauldineconomics.com/strategic-portfolio/')\n",
    "time.sleep(4)"
   ]
  },
  {
   "cell_type": "code",
   "execution_count": 92,
   "metadata": {},
   "outputs": [
    {
     "name": "stdout",
     "output_type": "stream",
     "text": [
      "Found 10 'u-link-v2' elements.\n"
     ]
    }
   ],
   "source": [
    "links = driver.find_elements(By.XPATH, \"//a[contains(@class, 'u-link-v2')]\")\n",
    "print(f\"Found {len(links)} 'u-link-v2' elements.\")"
   ]
  },
  {
   "cell_type": "code",
   "execution_count": 93,
   "metadata": {},
   "outputs": [
    {
     "name": "stdout",
     "output_type": "stream",
     "text": [
      "https://www.mauldineconomics.com/strategic-portfolio/the-life-hedge\n",
      "https://www.mauldineconomics.com/strategic-portfolio/people-are-bullish-about-stocks\n",
      "https://www.mauldineconomics.com/strategic-portfolio/the-charts-told-us\n",
      "https://www.mauldineconomics.com/strategic-portfolio/everything-is-awesome.-not-for-long\n",
      "https://www.mauldineconomics.com/strategic-portfolio/sell-tlt-and-tua\n",
      "https://www.mauldineconomics.com/strategic-portfolio/a-respectable-year\n",
      "https://www.mauldineconomics.com/strategic-portfolio/sell-angl\n",
      "https://www.mauldineconomics.com/strategic-portfolio/the-battle-with-bridgewater\n",
      "https://www.mauldineconomics.com/strategic-portfolio/the-war-portfolio\n",
      "https://www.mauldineconomics.com/strategic-portfolio/bullfighting\n"
     ]
    }
   ],
   "source": [
    "for l in links:\n",
    "    print(l.get_attribute('href'))"
   ]
  },
  {
   "cell_type": "code",
   "execution_count": 94,
   "metadata": {},
   "outputs": [],
   "source": [
    "pdf_index = pdf_index_num - 1\n",
    "\n",
    "if links:\n",
    "    links[pdf_index].click()"
   ]
  },
  {
   "cell_type": "code",
   "execution_count": 95,
   "metadata": {},
   "outputs": [],
   "source": [
    "def wait_for_download(directory, timeout=10):\n",
    "    \"\"\"Wait for the first new file to appear in the directory within the timeout period.\"\"\"\n",
    "    files_before = set(os.listdir(directory))\n",
    "    elapsed_time = 0\n",
    "    while elapsed_time < timeout:\n",
    "        time.sleep(1)  # Check every second\n",
    "        current_files = set(os.listdir(directory))\n",
    "        new_files = current_files - files_before\n",
    "        if new_files:\n",
    "            return new_files.pop()  # Return the first new file detected\n",
    "        elapsed_time += 1\n",
    "    raise FileNotFoundError(\"No new file appeared in the directory within the timeout period.\")\n"
   ]
  },
  {
   "cell_type": "code",
   "execution_count": 96,
   "metadata": {},
   "outputs": [],
   "source": [
    "try:\n",
    "    pdf_link = driver.find_element(By.XPATH, \"//a[contains(text(), 'Download PDF')]\")\n",
    "    pdf_link.click()\n",
    "    downloaded_file_name = wait_for_download(download_dir)\n",
    "except Exception as e:\n",
    "    print(e)\n",
    "    print(\"If you're seeing this it probably means this was an alert rather than a newsletter with a pdf version.\")"
   ]
  },
  {
   "cell_type": "code",
   "execution_count": 97,
   "metadata": {},
   "outputs": [],
   "source": [
    "time.sleep(4)\n",
    "log_out_link = driver.find_element(By.XPATH, \"//a[contains(text(), 'Log Out')]\")\n",
    "log_out_link.click()"
   ]
  },
  {
   "cell_type": "code",
   "execution_count": 98,
   "metadata": {},
   "outputs": [],
   "source": [
    "time.sleep(4)\n",
    "driver.quit()"
   ]
  },
  {
   "cell_type": "code",
   "execution_count": null,
   "metadata": {},
   "outputs": [],
   "source": []
  },
  {
   "cell_type": "code",
   "execution_count": 99,
   "metadata": {},
   "outputs": [
    {
     "data": {
      "text/plain": [
       "'C:\\\\Jared Dillian\\\\JDSP_Apr_2024-CC.pdf'"
      ]
     },
     "execution_count": 99,
     "metadata": {},
     "output_type": "execute_result"
    }
   ],
   "source": [
    "source_file_path = os.path.join(download_dir, downloaded_file_name)\n",
    "destination_file_path = os.path.join(r\"C:\\Jared Dillian\", downloaded_file_name)\n",
    "\n",
    "shutil.move(source_file_path, destination_file_path)"
   ]
  },
  {
   "cell_type": "code",
   "execution_count": null,
   "metadata": {},
   "outputs": [],
   "source": []
  },
  {
   "cell_type": "code",
   "execution_count": 100,
   "metadata": {},
   "outputs": [],
   "source": [
    "pdf_path = destination_file_path"
   ]
  },
  {
   "cell_type": "code",
   "execution_count": 101,
   "metadata": {},
   "outputs": [],
   "source": [
    "def extract_information(pdf_path):\n",
    "    # Lists to store extracted information\n",
    "    titles = []\n",
    "    dates = []\n",
    "    headings = []\n",
    "\n",
    "    # Open the PDF file\n",
    "    with pdfplumber.open(pdf_path) as pdf:\n",
    "        # Iterate through each page\n",
    "        for page in pdf.pages:\n",
    "            # Extract text from the page\n",
    "            text = page.extract_text()\n",
    "\n",
    "            # Example patterns to search for a date and titles\n",
    "            date_pattern = r\"\\b(?:January|February|March|April|May|June|July|August|September|October|November|December)\\s\\d{1,2},\\s\\d{4}\\b\"\n",
    "            title_pattern = r\"^[A-Z].*$\"  # Assumes titles are lines starting with capital letters and are standalone\n",
    "\n",
    "            # Find all dates and titles using regular expressions\n",
    "            found_dates = re.findall(date_pattern, text)\n",
    "            found_titles = re.findall(title_pattern, text, flags=re.MULTILINE)\n",
    "\n",
    "            # Add found items to respective lists\n",
    "            dates.extend(found_dates)\n",
    "            titles.extend(found_titles)\n",
    "\n",
    "            # Finding headings can be more complex and might need specific patterns based on the document structure\n",
    "            # For example, if headings are known to be uppercase or have certain keywords:\n",
    "            for line in text.split('\\n'):\n",
    "                if line.isupper() or 'HEADING_KEYWORD' in line:\n",
    "                    headings.append(line)\n",
    "\n",
    "    return titles, dates, headings\n"
   ]
  },
  {
   "cell_type": "code",
   "execution_count": 102,
   "metadata": {},
   "outputs": [],
   "source": [
    "titles, dates, headings = extract_information(pdf_path)"
   ]
  },
  {
   "cell_type": "code",
   "execution_count": 103,
   "metadata": {},
   "outputs": [
    {
     "name": "stdout",
     "output_type": "stream",
     "text": [
      "Title: The Life Hedge\n",
      "Date: April 16, 2024\n"
     ]
    }
   ],
   "source": [
    "print(\"Title:\", titles[3])\n",
    "print(\"Date:\", dates[0])\n"
   ]
  },
  {
   "cell_type": "code",
   "execution_count": 104,
   "metadata": {},
   "outputs": [],
   "source": [
    "new_file_name = titles[3]\n",
    "dt = pd.to_datetime(dates[0]).strftime('%Y%m%d')"
   ]
  },
  {
   "cell_type": "code",
   "execution_count": 105,
   "metadata": {},
   "outputs": [],
   "source": [
    "new_file_name = new_file_name.replace(' ', '_') + '.pdf'\n",
    "new_file_name = dt + '_' + new_file_name"
   ]
  },
  {
   "cell_type": "code",
   "execution_count": 106,
   "metadata": {},
   "outputs": [],
   "source": [
    "if os.path.exists(os.path.join(newsletter_folder, new_file_name)):\n",
    "    os.remove(os.path.join(newsletter_folder, new_file_name))\n",
    "\n",
    "os.rename(os.path.join(newsletter_folder, downloaded_file_name), os.path.join(newsletter_folder, new_file_name))"
   ]
  },
  {
   "cell_type": "code",
   "execution_count": null,
   "metadata": {},
   "outputs": [],
   "source": []
  },
  {
   "cell_type": "code",
   "execution_count": null,
   "metadata": {},
   "outputs": [],
   "source": []
  }
 ],
 "metadata": {
  "kernelspec": {
   "display_name": "Python 3",
   "language": "python",
   "name": "python3"
  },
  "language_info": {
   "codemirror_mode": {
    "name": "ipython",
    "version": 3
   },
   "file_extension": ".py",
   "mimetype": "text/x-python",
   "name": "python",
   "nbconvert_exporter": "python",
   "pygments_lexer": "ipython3",
   "version": "3.8.8"
  }
 },
 "nbformat": 4,
 "nbformat_minor": 2
}
